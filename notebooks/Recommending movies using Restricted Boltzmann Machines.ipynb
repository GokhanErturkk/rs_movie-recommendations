{
 "cells": [
  {
   "cell_type": "markdown",
   "metadata": {},
   "source": [
    "# Recommending movies using Restricted Boltzmann Machines"
   ]
  },
  {
   "cell_type": "markdown",
   "metadata": {},
   "source": [
    "\\- [Saurabh Mathur](saurabhmathur96.github.io)"
   ]
  },
  {
   "cell_type": "markdown",
   "metadata": {},
   "source": [
    "The aim of this experiment is to recommend movies to a user, given his earlier ratings. To accoplish this I am using the modified version of the Restricted Boltzmann Machine model as discussed by [Ruslan Salakhutdinov, Andriy Mnih and\n",
    "Geoffrey Hinton](http://www.machinelearning.org/proceedings/icml2007/papers/407.pdf)."
   ]
  },
  {
   "cell_type": "code",
   "execution_count": 1,
   "metadata": {
    "collapsed": true
   },
   "outputs": [],
   "source": [
    "import tensorflow as tf"
   ]
  },
  {
   "cell_type": "markdown",
   "metadata": {},
   "source": [
    "I will be using the [MovieLens 1M dataset](http://grouplens.org/datasets/movielens/) released on 2/2003. It has 1 million ratings from 6000 users on 4000 movies.\n",
    "\n",
    "I have downloaded the data in the `data/raw/ml-1m` directory. ( `scripts/fetch.py` ) \n",
    "\n",
    "I have also pre-processed the ratings data and converted it to a user by movie matrix at `data/intermediate`"
   ]
  },
  {
   "cell_type": "code",
   "execution_count": 12,
   "metadata": {
    "collapsed": false
   },
   "outputs": [
    {
     "data": {
      "text/html": [
       "<div>\n",
       "<table border=\"1\" class=\"dataframe\">\n",
       "  <thead>\n",
       "    <tr style=\"text-align: right;\">\n",
       "      <th></th>\n",
       "      <th>MovieID</th>\n",
       "      <th>Title</th>\n",
       "      <th>Genres</th>\n",
       "      <th>ContinuousMovieID</th>\n",
       "    </tr>\n",
       "  </thead>\n",
       "  <tbody>\n",
       "    <tr>\n",
       "      <th>0</th>\n",
       "      <td>1</td>\n",
       "      <td>Toy Story (1995)</td>\n",
       "      <td>Animation|Children's|Comedy</td>\n",
       "      <td>0</td>\n",
       "    </tr>\n",
       "    <tr>\n",
       "      <th>1</th>\n",
       "      <td>2</td>\n",
       "      <td>Jumanji (1995)</td>\n",
       "      <td>Adventure|Children's|Fantasy</td>\n",
       "      <td>1</td>\n",
       "    </tr>\n",
       "    <tr>\n",
       "      <th>2</th>\n",
       "      <td>3</td>\n",
       "      <td>Grumpier Old Men (1995)</td>\n",
       "      <td>Comedy|Romance</td>\n",
       "      <td>2</td>\n",
       "    </tr>\n",
       "    <tr>\n",
       "      <th>3</th>\n",
       "      <td>4</td>\n",
       "      <td>Waiting to Exhale (1995)</td>\n",
       "      <td>Comedy|Drama</td>\n",
       "      <td>3</td>\n",
       "    </tr>\n",
       "    <tr>\n",
       "      <th>4</th>\n",
       "      <td>5</td>\n",
       "      <td>Father of the Bride Part II (1995)</td>\n",
       "      <td>Comedy</td>\n",
       "      <td>4</td>\n",
       "    </tr>\n",
       "  </tbody>\n",
       "</table>\n",
       "</div>"
      ],
      "text/plain": [
       "   MovieID                               Title                        Genres  \\\n",
       "0        1                    Toy Story (1995)   Animation|Children's|Comedy   \n",
       "1        2                      Jumanji (1995)  Adventure|Children's|Fantasy   \n",
       "2        3             Grumpier Old Men (1995)                Comedy|Romance   \n",
       "3        4            Waiting to Exhale (1995)                  Comedy|Drama   \n",
       "4        5  Father of the Bride Part II (1995)                        Comedy   \n",
       "\n",
       "   ContinuousMovieID  \n",
       "0                  0  \n",
       "1                  1  \n",
       "2                  2  \n",
       "3                  3  \n",
       "4                  4  "
      ]
     },
     "execution_count": 12,
     "metadata": {},
     "output_type": "execute_result"
    }
   ],
   "source": [
    "import pandas as pd\n",
    "\n",
    "movies = pd.read_csv(\"../data/intermediate/movies.csv\", index_col=0)\n",
    "\n",
    "movies.head()"
   ]
  },
  {
   "cell_type": "code",
   "execution_count": 4,
   "metadata": {
    "collapsed": false
   },
   "outputs": [
    {
     "name": "stdout",
     "output_type": "stream",
     "text": [
      "6040x3883 user by movie matrix\n"
     ]
    }
   ],
   "source": [
    "import scipy.io\n",
    "\n",
    "R = scipy.io.mmread(\"../data/intermediate/user_movie_ratings.mtx\").tocsr()\n",
    "\n",
    "\n",
    "print ('{0}x{1} user by movie matrix'.format(*R.shape))"
   ]
  },
  {
   "cell_type": "markdown",
   "metadata": {},
   "source": [
    "## Restricted Boltzmann Networks"
   ]
  },
  {
   "cell_type": "markdown",
   "metadata": {},
   "source": [
    "Restricted Boltzmann Machine, [Source: Asimov Institute's Neural Network Zoo](http://www.asimovinstitute.org/neural-network-zoo/)\n",
    "![Restricted Boltzmann Machine](../images/rbm.png)\n",
    "\n",
    "The visible nodes are shown as yellow and hidden nodes are shown as green.\n",
    "The data flow in an RBM is as follows :\n",
    "- Input data is fed into visible nodes.\n",
    "- Activations at visible nodes are computed and propagated to hidden nodes.\n",
    "- Now, the direction of propagation is reversed.\n",
    "- The output activations are computed and outputted via the visible nodes.\n",
    "\n",
    "More formally, the RBM can be shown as :\n",
    "\n",
    "Restricted Boltzmann Machine, [Source: Deep Learning Tutorial part 3/3: Deep Belief Networks](https://lazyprogrammer.me/deep-learning-tutorial-part-33-deep-belief/)\n",
    "![Restricted Boltzmann Machine](../images/rbm_vars.png)\n",
    "\n",
    "The Energy of the RBM is defined as :\n",
    "\n",
    "$$ E(v, h) = -\\sum_i a_i \\cdot v_i - \\sum_j b_i \\cdot h_i + \\sum_i \\sum_j v_i \\cdot w_{ij} \\cdot h_j $$\n",
    "\n",
    "Since this is unsupervised learning, the algorithm I am using to train the RBM network is a modification of [*Contrastive Divergence*](https://chronicles.mfglabs.com/rbm-and-recommender-systems-3fa30f53d1dc#.9i7w8t9re)."
   ]
  },
  {
   "cell_type": "markdown",
   "metadata": {},
   "source": [
    "## The trick\n",
    "\n",
    "\n",
    "The main issue here is that of missing values - there is a *lot* of them.\n",
    "\n",
    "To overcome this, the proposed solution [here](http://www.machinelearning.org/proceedings/icml2007/papers/407.pdf)\n",
    "is :\n",
    "- each of the visible nodes of the RBM represent a movie ( and take the corresponding movie rating as input ).\n",
    "- each user vector is treated as a training example. \n",
    "\n",
    "This is similar to training an RBM model for each user but reusing the weights. "
   ]
  },
  {
   "cell_type": "markdown",
   "metadata": {},
   "source": [
    "## Building the model"
   ]
  },
  {
   "cell_type": "code",
   "execution_count": 7,
   "metadata": {
    "collapsed": false
   },
   "outputs": [],
   "source": [
    "from __future__ import division\n",
    "\n",
    "n_visible, n_hidden = len(movies), 20\n",
    "\n",
    "\n",
    "graph = tf.Graph()\n",
    "\n",
    "with graph.as_default():\n",
    "    v_bias = tf.placeholder(tf.float32, [n_visible])\n",
    "    h_bias = tf.placeholder(tf.float32, [n_hidden])\n",
    "    W = tf.placeholder(tf.float32, [n_visible, n_hidden])\n",
    "    \n",
    "    # visible to hidden pass\n",
    "    v_1 = tf.placeholder(tf.float32, [None, n_visible])\n",
    "    h_1_ = tf.sigmoid(tf.matmul(v_1, W) + h_bias)\n",
    "    h_1 = tf.nn.relu(tf.sign(h_1_ - tf.random_uniform(tf.shape(h_1_))))\n",
    "    \n",
    "    \n",
    "    # hidden to visible pass\n",
    "    v_2_ = tf.sigmoid(tf.matmul(h_1, tf.transpose(W)) + v_bias)\n",
    "    v_2 = tf.nn.relu(tf.sign(v_2_ - tf.random_uniform(tf.shape(v_2_))))\n",
    "    h_2 = tf.nn.sigmoid(tf.matmul(v_2, W) + h_bias)\n",
    "    \n",
    "    # Learning rate\n",
    "    lr = 0.01\n",
    "    W_gradient_1 = tf.matmul(tf.transpose(v_1), h_1)\n",
    "    W_gradient_2 = tf.matmul(tf.transpose(v_2), h_2)\n",
    "    \n",
    "    contrastive_divergence = ( W_gradient_1 - W_gradient_2 ) / tf.to_float(tf.shape(v_1)[0])\n",
    "    \n",
    "    # parameter updates\n",
    "    W_update = W + lr * contrastive_divergence\n",
    "    v_bias_update = v_bias + lr * tf.reduce_mean(v_1 - v_2, 0)\n",
    "    h_bias_update = h_bias + lr * tf.reduce_mean(h_1 - h_2, 0)\n",
    "    \n",
    "    # error metrics\n",
    "    mae = tf.reduce_mean(tf.abs(v_1 - v_2))\n",
    "    rmse = tf.sqrt(tf.reduce_mean(tf.square(v_1 - v_2)))\n",
    "    "
   ]
  },
  {
   "cell_type": "markdown",
   "metadata": {},
   "source": [
    "## Training the model"
   ]
  },
  {
   "cell_type": "code",
   "execution_count": 8,
   "metadata": {
    "collapsed": false
   },
   "outputs": [
    {
     "name": "stdout",
     "output_type": "stream",
     "text": [
      "MAE = 0.393706173, RMSE = 0.837142766\n",
      "MAE = 0.307844728, RMSE = 0.795156062\n",
      "MAE = 0.283565879, RMSE = 0.782326221\n",
      "MAE = 0.274305254, RMSE = 0.777140021\n",
      "MAE = 0.268723488, RMSE = 0.773530304\n",
      "MAE = 0.266444802, RMSE = 0.772211075\n",
      "MAE = 0.265085578, RMSE = 0.771489143\n",
      "MAE = 0.264171988, RMSE = 0.770580709\n",
      "MAE = 0.263169616, RMSE = 0.770097256\n",
      "MAE = 0.262013227, RMSE = 0.769408047\n",
      "MAE = 0.261296660, RMSE = 0.768895447\n",
      "MAE = 0.261128098, RMSE = 0.768850684\n",
      "MAE = 0.260994464, RMSE = 0.768646479\n",
      "MAE = 0.260592788, RMSE = 0.768427193\n",
      "MAE = 0.260619551, RMSE = 0.768634498\n",
      "MAE = 0.259937257, RMSE = 0.768016875\n",
      "MAE = 0.259915859, RMSE = 0.768064320\n",
      "MAE = 0.259853303, RMSE = 0.768015981\n",
      "MAE = 0.259344101, RMSE = 0.767609239\n",
      "MAE = 0.258970350, RMSE = 0.767514586\n"
     ]
    }
   ],
   "source": [
    "import numpy as np\n",
    "\n",
    "\n",
    "n_epoch = 20\n",
    "batch_size = 100\n",
    "current_W = np.zeros([n_visible, n_hidden], np.float32)\n",
    "current_v_bias = np.zeros([n_visible], np.float32)\n",
    "current_h_bias = np.zeros([n_hidden], np.float32)\n",
    "\n",
    "\n",
    "# split into train and test\n",
    "train_R = R[0:4500]\n",
    "test_R = R[4500:]\n",
    "\n",
    "errors = []\n",
    "\n",
    "with tf.Session(graph=graph) as sess:\n",
    "    tf.initialize_all_variables().run()\n",
    "    for epoch in range(n_epoch):\n",
    "        for start in range(0, train_R.shape[0]-batch_size, batch_size):\n",
    "            end = start + batch_size\n",
    "            end = start + batch_size\n",
    "            batch = train_R[start:end].todense()\n",
    "            feed_dict = { v_1: batch, W: current_W, v_bias: current_v_bias, h_bias: current_h_bias }\n",
    "            updates = [W_update, v_bias_update, h_bias_update]\n",
    "            current_W, current_v_bias, current_h_bias = sess.run(updates, feed_dict=feed_dict)\n",
    "        \n",
    "        feed_dict = { v_1: test_R.todense(), W: current_W, v_bias: current_v_bias, h_bias: current_h_bias }\n",
    "        mean_average_error, root_mean_squared_error = sess.run([mae, rmse], feed_dict=feed_dict)\n",
    "        current_error = { \"MAE\": mean_average_error, \"RMSE\": root_mean_squared_error }\n",
    "        \n",
    "        print \"MAE = {MAE:10.9f}, RMSE = {RMSE:10.9f}\".format(**current_error)\n",
    "        errors.append(current_error)"
   ]
  },
  {
   "cell_type": "markdown",
   "metadata": {},
   "source": [
    "## Save the model parameters for resuse"
   ]
  },
  {
   "cell_type": "code",
   "execution_count": 9,
   "metadata": {
    "collapsed": false
   },
   "outputs": [],
   "source": [
    "np.save(\"../models/W.npy\", current_W)\n",
    "np.save(\"../models/v_bias.npy\", current_v_bias)\n",
    "np.save(\"../models/h_bias.npy\", current_h_bias)"
   ]
  },
  {
   "cell_type": "markdown",
   "metadata": {},
   "source": [
    "## Load the model parameters"
   ]
  },
  {
   "cell_type": "code",
   "execution_count": 10,
   "metadata": {
    "collapsed": true
   },
   "outputs": [],
   "source": [
    "import numpy as np\n",
    "\n",
    "current_W = np.load(\"../models/W.npy\")\n",
    "current_v_bias = np.load(\"../models/v_bias.npy\")\n",
    "current_h_bias = np.load(\"../models/h_bias.npy\")"
   ]
  },
  {
   "cell_type": "markdown",
   "metadata": {},
   "source": [
    "## Making recommendations"
   ]
  },
  {
   "cell_type": "code",
   "execution_count": 11,
   "metadata": {
    "collapsed": false
   },
   "outputs": [
    {
     "data": {
      "text/html": [
       "<div>\n",
       "<table border=\"1\" class=\"dataframe\">\n",
       "  <thead>\n",
       "    <tr style=\"text-align: right;\">\n",
       "      <th></th>\n",
       "      <th>Unnamed: 0</th>\n",
       "      <th>MovieID</th>\n",
       "      <th>Title</th>\n",
       "      <th>Genres</th>\n",
       "      <th>ContinuousMovieID</th>\n",
       "      <th>Ratings</th>\n",
       "    </tr>\n",
       "  </thead>\n",
       "  <tbody>\n",
       "    <tr>\n",
       "      <th>1265</th>\n",
       "      <td>1265</td>\n",
       "      <td>1285</td>\n",
       "      <td>Heathers (1989)</td>\n",
       "      <td>Comedy</td>\n",
       "      <td>1265</td>\n",
       "      <td>5</td>\n",
       "    </tr>\n",
       "    <tr>\n",
       "      <th>1353</th>\n",
       "      <td>1353</td>\n",
       "      <td>1374</td>\n",
       "      <td>Star Trek: The Wrath of Khan (1982)</td>\n",
       "      <td>Action|Adventure|Sci-Fi</td>\n",
       "      <td>1353</td>\n",
       "      <td>5</td>\n",
       "    </tr>\n",
       "    <tr>\n",
       "      <th>2398</th>\n",
       "      <td>2398</td>\n",
       "      <td>2467</td>\n",
       "      <td>Name of the Rose, The (1986)</td>\n",
       "      <td>Mystery</td>\n",
       "      <td>2398</td>\n",
       "      <td>5</td>\n",
       "    </tr>\n",
       "    <tr>\n",
       "      <th>2647</th>\n",
       "      <td>2647</td>\n",
       "      <td>2716</td>\n",
       "      <td>Ghostbusters (1984)</td>\n",
       "      <td>Comedy|Horror</td>\n",
       "      <td>2647</td>\n",
       "      <td>5</td>\n",
       "    </tr>\n",
       "    <tr>\n",
       "      <th>1180</th>\n",
       "      <td>1180</td>\n",
       "      <td>1198</td>\n",
       "      <td>Raiders of the Lost Ark (1981)</td>\n",
       "      <td>Action|Adventure</td>\n",
       "      <td>1180</td>\n",
       "      <td>5</td>\n",
       "    </tr>\n",
       "  </tbody>\n",
       "</table>\n",
       "</div>"
      ],
      "text/plain": [
       "      Unnamed: 0  MovieID                                Title  \\\n",
       "1265        1265     1285                      Heathers (1989)   \n",
       "1353        1353     1374  Star Trek: The Wrath of Khan (1982)   \n",
       "2398        2398     2467         Name of the Rose, The (1986)   \n",
       "2647        2647     2716                  Ghostbusters (1984)   \n",
       "1180        1180     1198       Raiders of the Lost Ark (1981)   \n",
       "\n",
       "                       Genres  ContinuousMovieID  Ratings  \n",
       "1265                   Comedy               1265        5  \n",
       "1353  Action|Adventure|Sci-Fi               1353        5  \n",
       "2398                  Mystery               2398        5  \n",
       "2647            Comedy|Horror               2647        5  \n",
       "1180         Action|Adventure               1180        5  "
      ]
     },
     "metadata": {},
     "output_type": "display_data"
    },
    {
     "name": "stdout",
     "output_type": "stream",
     "text": [
      "current_user = [[0 0 0 ..., 0 0 0]]\n"
     ]
    },
    {
     "data": {
      "text/html": [
       "<div>\n",
       "<table border=\"1\" class=\"dataframe\">\n",
       "  <thead>\n",
       "    <tr style=\"text-align: right;\">\n",
       "      <th></th>\n",
       "      <th>Unnamed: 0</th>\n",
       "      <th>MovieID</th>\n",
       "      <th>Title</th>\n",
       "      <th>Genres</th>\n",
       "      <th>ContinuousMovieID</th>\n",
       "      <th>Ratings</th>\n",
       "      <th>Score</th>\n",
       "    </tr>\n",
       "  </thead>\n",
       "  <tbody>\n",
       "    <tr>\n",
       "      <th>0</th>\n",
       "      <td>0</td>\n",
       "      <td>1</td>\n",
       "      <td>Toy Story (1995)</td>\n",
       "      <td>Animation|Children's|Comedy</td>\n",
       "      <td>0</td>\n",
       "      <td>0</td>\n",
       "      <td>5.0</td>\n",
       "    </tr>\n",
       "    <tr>\n",
       "      <th>3045</th>\n",
       "      <td>3045</td>\n",
       "      <td>3114</td>\n",
       "      <td>Toy Story 2 (1999)</td>\n",
       "      <td>Animation|Children's|Comedy</td>\n",
       "      <td>3045</td>\n",
       "      <td>0</td>\n",
       "      <td>5.0</td>\n",
       "    </tr>\n",
       "    <tr>\n",
       "      <th>2286</th>\n",
       "      <td>2286</td>\n",
       "      <td>2355</td>\n",
       "      <td>Bug's Life, A (1998)</td>\n",
       "      <td>Animation|Children's|Comedy</td>\n",
       "      <td>2286</td>\n",
       "      <td>0</td>\n",
       "      <td>5.0</td>\n",
       "    </tr>\n",
       "    <tr>\n",
       "      <th>2327</th>\n",
       "      <td>2327</td>\n",
       "      <td>2396</td>\n",
       "      <td>Shakespeare in Love (1998)</td>\n",
       "      <td>Comedy|Romance</td>\n",
       "      <td>2327</td>\n",
       "      <td>0</td>\n",
       "      <td>5.0</td>\n",
       "    </tr>\n",
       "    <tr>\n",
       "      <th>585</th>\n",
       "      <td>585</td>\n",
       "      <td>589</td>\n",
       "      <td>Terminator 2: Judgment Day (1991)</td>\n",
       "      <td>Action|Sci-Fi|Thriller</td>\n",
       "      <td>585</td>\n",
       "      <td>5</td>\n",
       "      <td>5.0</td>\n",
       "    </tr>\n",
       "  </tbody>\n",
       "</table>\n",
       "</div>"
      ],
      "text/plain": [
       "      Unnamed: 0  MovieID                              Title  \\\n",
       "0              0        1                   Toy Story (1995)   \n",
       "3045        3045     3114                 Toy Story 2 (1999)   \n",
       "2286        2286     2355               Bug's Life, A (1998)   \n",
       "2327        2327     2396         Shakespeare in Love (1998)   \n",
       "585          585      589  Terminator 2: Judgment Day (1991)   \n",
       "\n",
       "                           Genres  ContinuousMovieID  Ratings  Score  \n",
       "0     Animation|Children's|Comedy                  0        0    5.0  \n",
       "3045  Animation|Children's|Comedy               3045        0    5.0  \n",
       "2286  Animation|Children's|Comedy               2286        0    5.0  \n",
       "2327               Comedy|Romance               2327        0    5.0  \n",
       "585        Action|Sci-Fi|Thriller                585        5    5.0  "
      ]
     },
     "metadata": {},
     "output_type": "display_data"
    }
   ],
   "source": [
    "import tensorflow as tf\n",
    "from IPython.display import display, HTML\n",
    "\n",
    "graph = tf.Graph()\n",
    "\n",
    "with graph.as_default():\n",
    "    v_bias = tf.placeholder(tf.float32, [n_visible])\n",
    "    h_bias = tf.placeholder(tf.float32, [n_hidden])\n",
    "    W = tf.placeholder(tf.float32, [n_visible, n_hidden])\n",
    "    v_1 = tf.placeholder(tf.float32, [None, n_visible])\n",
    "    \n",
    "    \n",
    "    h_1 = tf.nn.sigmoid(tf.matmul(v_1, W) + h_bias)\n",
    "    v_2 = tf.nn.sigmoid(tf.matmul(h_1, tf.transpose(W)) + v_bias)\n",
    "\n",
    "current_user = R[4500].todense()\n",
    "recommendations = movies.copy(deep=True)\n",
    "recommendations[\"Ratings\"] =  current_user[0].T\n",
    "HTML(\"<h3> Rated movies </h3>\")\n",
    "display(recommendations.sort_values(by=[\"Ratings\"], ascending = False).head())\n",
    "\n",
    "\n",
    "print (\"current_user = {0}\".format(current_user))\n",
    "with tf.Session(graph=graph) as sess:\n",
    "    tf.initialize_all_variables().run()\n",
    "    feed_dict = { v_1: current_user, W: current_W, h_bias: current_h_bias }\n",
    "    h1 = sess.run(h_1, feed_dict=feed_dict)\n",
    "    feed_dict = { h_1: h1, W: current_W, v_bias: current_v_bias }\n",
    "    v2 = sess.run(v_2, feed_dict=feed_dict)\n",
    "    recommendations[\"Score\"] = v2[0] * 5.0\n",
    "    HTML(\"<h3> Recommended movies </h3>\")\n",
    "    display(recommendations.sort_values(by=[\"Score\"], ascending = False).head())"
   ]
  }
 ],
 "metadata": {
  "kernelspec": {
   "display_name": "Python 2",
   "language": "python",
   "name": "python2"
  },
  "language_info": {
   "codemirror_mode": {
    "name": "ipython",
    "version": 2
   },
   "file_extension": ".py",
   "mimetype": "text/x-python",
   "name": "python",
   "nbconvert_exporter": "python",
   "pygments_lexer": "ipython2",
   "version": "2.7.12"
  }
 },
 "nbformat": 4,
 "nbformat_minor": 0
}
